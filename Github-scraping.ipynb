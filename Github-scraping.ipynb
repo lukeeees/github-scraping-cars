{
 "cells": [
  {
   "cell_type": "markdown",
   "id": "4799dac6",
   "metadata": {},
   "source": [
    "# Top Repositories for Github Topics\n"
   ]
  },
  {
   "cell_type": "markdown",
   "id": "f87e740a",
   "metadata": {},
   "source": [
    "# @Author\n",
    "\n",
    "\n"
   ]
  },
  {
   "cell_type": "markdown",
   "id": "cf56354f",
   "metadata": {},
   "source": [
    "# Pick a website and describe your objective"
   ]
  },
  {
   "cell_type": "markdown",
   "id": "ec01aa9f",
   "metadata": {},
   "source": [
    "- Browse through different sites and pick on to scrape. Check the \"Project Ideas\" section for inspiration.\n",
    "- Identify the information you'd like to scrape from the site. Decide the format of the output CSV file.\n",
    "- Summarize your project idea and outline your strategy in a Juptyer notebook. Use the \"New\" button above."
   ]
  },
  {
   "cell_type": "markdown",
   "id": "bfec267f",
   "metadata": {},
   "source": [
    "## Project Outline\n",
    "- We're going to scrape https://github.com/topics\n",
    "- We'll get a list of topics. For each topic, we'll get topic title, topic page URL and topic description\n",
    "- For each topic, we'll get the top 25 repositories in the topic from the topic page\n",
    "- for each topic we'll create a CSV file in the following format:\n",
    "```\n",
    "Title,Description,URL\n",
    "3D,3D modeling is the process of virtually developing the surface and structure of a 3D object.,https://github.com/topics/3d\n",
    "Ajax,Ajax is a technique for creating interactive web applications.,https://github.com/topics/ajax\n",
    "```"
   ]
  },
  {
   "cell_type": "markdown",
   "id": "e32c9943",
   "metadata": {},
   "source": [
    "# Use the requests library to download web pages\n"
   ]
  },
  {
   "cell_type": "code",
   "execution_count": 14,
   "id": "ea884117",
   "metadata": {},
   "outputs": [],
   "source": [
    "!pip install requests --upgrade --quiet"
   ]
  },
  {
   "cell_type": "code",
   "execution_count": 15,
   "id": "598990ba",
   "metadata": {},
   "outputs": [],
   "source": [
    "import requests"
   ]
  },
  {
   "cell_type": "code",
   "execution_count": 16,
   "id": "2317bfdc",
   "metadata": {},
   "outputs": [],
   "source": [
    "topics_url = 'https://github.com/topics'"
   ]
  },
  {
   "cell_type": "code",
   "execution_count": 17,
   "id": "e625079a",
   "metadata": {},
   "outputs": [],
   "source": [
    "response = requests.get(topics_url)"
   ]
  },
  {
   "cell_type": "code",
   "execution_count": 18,
   "id": "9acb059e",
   "metadata": {},
   "outputs": [
    {
     "data": {
      "text/plain": [
       "200"
      ]
     },
     "execution_count": 18,
     "metadata": {},
     "output_type": "execute_result"
    }
   ],
   "source": [
    "response.status_code #successful"
   ]
  },
  {
   "cell_type": "code",
   "execution_count": 19,
   "id": "2e5e091d",
   "metadata": {},
   "outputs": [
    {
     "data": {
      "text/plain": [
       "141647"
      ]
     },
     "execution_count": 19,
     "metadata": {},
     "output_type": "execute_result"
    }
   ],
   "source": [
    "len(response.text)"
   ]
  },
  {
   "cell_type": "code",
   "execution_count": 20,
   "id": "458c6f18",
   "metadata": {},
   "outputs": [],
   "source": [
    "page_contents = response.text"
   ]
  },
  {
   "cell_type": "code",
   "execution_count": 21,
   "id": "378b2aed",
   "metadata": {},
   "outputs": [
    {
     "data": {
      "text/plain": [
       "'\\n\\n<!DOCTYPE html>\\n<html lang=\"en\" data-color-mode=\"auto\" data-light-theme=\"light\" data-dark-theme=\"dark\" data-a11y-animated-images=\"system\">\\n  <head>\\n    <meta charset=\"utf-8\">\\n  <link rel=\"dns-prefetch\" href=\"https://github.githubassets.com\">\\n  <link rel=\"dns-prefetch\" href=\"https://avatars.githubusercontent.com\">\\n  <link rel=\"dns-prefetch\" href=\"https://github-cloud.s3.amazonaws.com\">\\n  <link rel=\"dns-prefetch\" href=\"https://user-images.githubusercontent.com/\">\\n  <link rel=\"preconnect\" href=\"https://github.githubassets.com\" crossorigin>\\n  <link rel=\"preconnect\" href=\"https://avatars.githubusercontent.com\">\\n\\n\\n\\n  <link crossorigin=\"anonymous\" media=\"all\" integrity=\"sha512-ksfTgQOOnE+FFXf+yNfVjKSlEckJAdufFIYGK7ZjRhWcZgzAGcmZqqArTgMLpu90FwthqcCX4ldDgKXbmVMeuQ==\" rel=\"stylesheet\" href=\"https://github.githubassets.com/assets/light-92c7d381038e.css\" /><link crossorigin=\"anonymous\" media=\"all\" integrity=\"sha512-1KkMNn8M/al/dtzBLupRwkIOgnA9MWkm8oxS+solP87jByEvY/g4BmoxLihRogKcX1obPnf4Yp7dI0ZTW'"
      ]
     },
     "execution_count": 21,
     "metadata": {},
     "output_type": "execute_result"
    }
   ],
   "source": [
    "page_contents[:1000]"
   ]
  },
  {
   "cell_type": "markdown",
   "id": "48245cb9",
   "metadata": {},
   "source": [
    "# Use Beautiful Soup to parse and extract information\n",
    "- Parse and explore the structure of downloaded webpages using beautiful soup.\n",
    "- Use the right properties and methods to extract the required information\n",
    "- Create functions to extract from the page into lists and dictionaries\n",
    "- (Optional) Use a Rest API to acquire additional information if required"
   ]
  },
  {
   "cell_type": "code",
   "execution_count": 24,
   "id": "a388e38d",
   "metadata": {},
   "outputs": [],
   "source": [
    "!pip install beautifulsoup4 --upgrade --quiet"
   ]
  },
  {
   "cell_type": "code",
   "execution_count": 25,
   "id": "1513c6cb",
   "metadata": {},
   "outputs": [],
   "source": [
    "from bs4 import BeautifulSoup"
   ]
  },
  {
   "cell_type": "code",
   "execution_count": 26,
   "id": "5e219923",
   "metadata": {},
   "outputs": [],
   "source": [
    "doc = BeautifulSoup(page_contents,'html.parser')"
   ]
  },
  {
   "cell_type": "code",
   "execution_count": 28,
   "id": "d7e193f7",
   "metadata": {},
   "outputs": [
    {
     "data": {
      "text/plain": [
       "bs4.BeautifulSoup"
      ]
     },
     "execution_count": 28,
     "metadata": {},
     "output_type": "execute_result"
    }
   ],
   "source": [
    "type(doc)"
   ]
  },
  {
   "cell_type": "code",
   "execution_count": 41,
   "id": "d67cea22",
   "metadata": {},
   "outputs": [],
   "source": [
    "topic_title_p_tags=doc.find_all('p',{'class':'f3 lh-condensed mb-0 mt-1 Link--primary'})"
   ]
  },
  {
   "cell_type": "code",
   "execution_count": 42,
   "id": "7dee1a97",
   "metadata": {},
   "outputs": [
    {
     "data": {
      "text/plain": [
       "[<p class=\"f3 lh-condensed mb-0 mt-1 Link--primary\">3D</p>,\n",
       " <p class=\"f3 lh-condensed mb-0 mt-1 Link--primary\">Ajax</p>,\n",
       " <p class=\"f3 lh-condensed mb-0 mt-1 Link--primary\">Algorithm</p>,\n",
       " <p class=\"f3 lh-condensed mb-0 mt-1 Link--primary\">Amp</p>,\n",
       " <p class=\"f3 lh-condensed mb-0 mt-1 Link--primary\">Android</p>]"
      ]
     },
     "execution_count": 42,
     "metadata": {},
     "output_type": "execute_result"
    }
   ],
   "source": [
    "topic_title_p_tags[:5]"
   ]
  },
  {
   "cell_type": "code",
   "execution_count": 45,
   "id": "3a98cf4a",
   "metadata": {},
   "outputs": [],
   "source": [
    "topic_des_p_tags=doc.find_all('p',{'class':'f5 color-fg-muted mb-0 mt-1'})"
   ]
  },
  {
   "cell_type": "code",
   "execution_count": 47,
   "id": "0e0d75d7",
   "metadata": {},
   "outputs": [
    {
     "data": {
      "text/plain": [
       "[<p class=\"f5 color-fg-muted mb-0 mt-1\">\n",
       "           3D modeling is the process of virtually developing the surface and structure of a 3D object.\n",
       "         </p>,\n",
       " <p class=\"f5 color-fg-muted mb-0 mt-1\">\n",
       "           Ajax is a technique for creating interactive web applications.\n",
       "         </p>,\n",
       " <p class=\"f5 color-fg-muted mb-0 mt-1\">\n",
       "           Algorithms are self-contained sequences that carry out a variety of tasks.\n",
       "         </p>,\n",
       " <p class=\"f5 color-fg-muted mb-0 mt-1\">\n",
       "           Amp is a non-blocking concurrency library for PHP.\n",
       "         </p>,\n",
       " <p class=\"f5 color-fg-muted mb-0 mt-1\">\n",
       "           Android is an operating system built by Google designed for mobile devices.\n",
       "         </p>]"
      ]
     },
     "execution_count": 47,
     "metadata": {},
     "output_type": "execute_result"
    }
   ],
   "source": [
    "topic_des_p_tags[:5]"
   ]
  },
  {
   "cell_type": "code",
   "execution_count": 85,
   "id": "5f885c84",
   "metadata": {},
   "outputs": [],
   "source": [
    "topic_link_a_tags = doc.find_all('a',{'class':'no-underline flex-1 d-flex flex-column'})"
   ]
  },
  {
   "cell_type": "code",
   "execution_count": 86,
   "id": "393f9c32",
   "metadata": {},
   "outputs": [
    {
     "data": {
      "text/plain": [
       "30"
      ]
     },
     "execution_count": 86,
     "metadata": {},
     "output_type": "execute_result"
    }
   ],
   "source": [
    "len(topic_link_a_tags)"
   ]
  },
  {
   "cell_type": "code",
   "execution_count": 87,
   "id": "4a2da5e2",
   "metadata": {},
   "outputs": [
    {
     "data": {
      "text/plain": [
       "[<a class=\"no-underline flex-1 d-flex flex-column\" href=\"/topics/3d\">\n",
       " <p class=\"f3 lh-condensed mb-0 mt-1 Link--primary\">3D</p>\n",
       " <p class=\"f5 color-fg-muted mb-0 mt-1\">\n",
       "           3D modeling is the process of virtually developing the surface and structure of a 3D object.\n",
       "         </p>\n",
       " </a>,\n",
       " <a class=\"no-underline flex-1 d-flex flex-column\" href=\"/topics/ajax\">\n",
       " <p class=\"f3 lh-condensed mb-0 mt-1 Link--primary\">Ajax</p>\n",
       " <p class=\"f5 color-fg-muted mb-0 mt-1\">\n",
       "           Ajax is a technique for creating interactive web applications.\n",
       "         </p>\n",
       " </a>,\n",
       " <a class=\"no-underline flex-1 d-flex flex-column\" href=\"/topics/algorithm\">\n",
       " <p class=\"f3 lh-condensed mb-0 mt-1 Link--primary\">Algorithm</p>\n",
       " <p class=\"f5 color-fg-muted mb-0 mt-1\">\n",
       "           Algorithms are self-contained sequences that carry out a variety of tasks.\n",
       "         </p>\n",
       " </a>,\n",
       " <a class=\"no-underline flex-1 d-flex flex-column\" href=\"/topics/amphp\">\n",
       " <p class=\"f3 lh-condensed mb-0 mt-1 Link--primary\">Amp</p>\n",
       " <p class=\"f5 color-fg-muted mb-0 mt-1\">\n",
       "           Amp is a non-blocking concurrency library for PHP.\n",
       "         </p>\n",
       " </a>,\n",
       " <a class=\"no-underline flex-1 d-flex flex-column\" href=\"/topics/android\">\n",
       " <p class=\"f3 lh-condensed mb-0 mt-1 Link--primary\">Android</p>\n",
       " <p class=\"f5 color-fg-muted mb-0 mt-1\">\n",
       "           Android is an operating system built by Google designed for mobile devices.\n",
       "         </p>\n",
       " </a>,\n",
       " <a class=\"no-underline flex-1 d-flex flex-column\" href=\"/topics/angular\">\n",
       " <p class=\"f3 lh-condensed mb-0 mt-1 Link--primary\">Angular</p>\n",
       " <p class=\"f5 color-fg-muted mb-0 mt-1\">\n",
       "           Angular is an open source web application platform.\n",
       "         </p>\n",
       " </a>,\n",
       " <a class=\"no-underline flex-1 d-flex flex-column\" href=\"/topics/ansible\">\n",
       " <p class=\"f3 lh-condensed mb-0 mt-1 Link--primary\">Ansible</p>\n",
       " <p class=\"f5 color-fg-muted mb-0 mt-1\">\n",
       "           Ansible is a simple and powerful automation engine.\n",
       "         </p>\n",
       " </a>,\n",
       " <a class=\"no-underline flex-1 d-flex flex-column\" href=\"/topics/api\">\n",
       " <p class=\"f3 lh-condensed mb-0 mt-1 Link--primary\">API</p>\n",
       " <p class=\"f5 color-fg-muted mb-0 mt-1\">\n",
       "           An API (Application Programming Interface) is a collection of protocols and subroutines for building software.\n",
       "         </p>\n",
       " </a>,\n",
       " <a class=\"no-underline flex-1 d-flex flex-column\" href=\"/topics/arduino\">\n",
       " <p class=\"f3 lh-condensed mb-0 mt-1 Link--primary\">Arduino</p>\n",
       " <p class=\"f5 color-fg-muted mb-0 mt-1\">\n",
       "           Arduino is an open source hardware and software company and maker community.\n",
       "         </p>\n",
       " </a>,\n",
       " <a class=\"no-underline flex-1 d-flex flex-column\" href=\"/topics/aspnet\">\n",
       " <p class=\"f3 lh-condensed mb-0 mt-1 Link--primary\">ASP.NET</p>\n",
       " <p class=\"f5 color-fg-muted mb-0 mt-1\">\n",
       "           ASP.NET is a web framework for building modern web apps and services.\n",
       "         </p>\n",
       " </a>,\n",
       " <a class=\"no-underline flex-1 d-flex flex-column\" href=\"/topics/atom\">\n",
       " <p class=\"f3 lh-condensed mb-0 mt-1 Link--primary\">Atom</p>\n",
       " <p class=\"f5 color-fg-muted mb-0 mt-1\">\n",
       "           Atom is a open source text editor built with web technologies.\n",
       "         </p>\n",
       " </a>,\n",
       " <a class=\"no-underline flex-1 d-flex flex-column\" href=\"/topics/awesome\">\n",
       " <p class=\"f3 lh-condensed mb-0 mt-1 Link--primary\">Awesome Lists</p>\n",
       " <p class=\"f5 color-fg-muted mb-0 mt-1\">\n",
       "           An awesome list is a list of awesome things curated by the community.\n",
       "         </p>\n",
       " </a>,\n",
       " <a class=\"no-underline flex-1 d-flex flex-column\" href=\"/topics/aws\">\n",
       " <p class=\"f3 lh-condensed mb-0 mt-1 Link--primary\">Amazon Web Services</p>\n",
       " <p class=\"f5 color-fg-muted mb-0 mt-1\">\n",
       "           Amazon Web Services provides on-demand cloud computing platforms on a subscription basis.\n",
       "         </p>\n",
       " </a>,\n",
       " <a class=\"no-underline flex-1 d-flex flex-column\" href=\"/topics/azure\">\n",
       " <p class=\"f3 lh-condensed mb-0 mt-1 Link--primary\">Azure</p>\n",
       " <p class=\"f5 color-fg-muted mb-0 mt-1\">\n",
       "           Azure is a cloud computing service created by Microsoft.\n",
       "         </p>\n",
       " </a>,\n",
       " <a class=\"no-underline flex-1 d-flex flex-column\" href=\"/topics/babel\">\n",
       " <p class=\"f3 lh-condensed mb-0 mt-1 Link--primary\">Babel</p>\n",
       " <p class=\"f5 color-fg-muted mb-0 mt-1\">\n",
       "           Babel is a compiler for writing next generation JavaScript, today.\n",
       "         </p>\n",
       " </a>,\n",
       " <a class=\"no-underline flex-1 d-flex flex-column\" href=\"/topics/bash\">\n",
       " <p class=\"f3 lh-condensed mb-0 mt-1 Link--primary\">Bash</p>\n",
       " <p class=\"f5 color-fg-muted mb-0 mt-1\">\n",
       "           Bash is a shell and command language interpreter for the GNU operating system.\n",
       "         </p>\n",
       " </a>,\n",
       " <a class=\"no-underline flex-1 d-flex flex-column\" href=\"/topics/bitcoin\">\n",
       " <p class=\"f3 lh-condensed mb-0 mt-1 Link--primary\">Bitcoin</p>\n",
       " <p class=\"f5 color-fg-muted mb-0 mt-1\">\n",
       "           Bitcoin is a cryptocurrency developed by Satoshi Nakamoto.\n",
       "         </p>\n",
       " </a>,\n",
       " <a class=\"no-underline flex-1 d-flex flex-column\" href=\"/topics/bootstrap\">\n",
       " <p class=\"f3 lh-condensed mb-0 mt-1 Link--primary\">Bootstrap</p>\n",
       " <p class=\"f5 color-fg-muted mb-0 mt-1\">\n",
       "           Bootstrap is an HTML, CSS, and JavaScript framework.\n",
       "         </p>\n",
       " </a>,\n",
       " <a class=\"no-underline flex-1 d-flex flex-column\" href=\"/topics/bot\">\n",
       " <p class=\"f3 lh-condensed mb-0 mt-1 Link--primary\">Bot</p>\n",
       " <p class=\"f5 color-fg-muted mb-0 mt-1\">\n",
       "           A bot is an application that runs automated tasks over the Internet.\n",
       "         </p>\n",
       " </a>,\n",
       " <a class=\"no-underline flex-1 d-flex flex-column\" href=\"/topics/c\">\n",
       " <p class=\"f3 lh-condensed mb-0 mt-1 Link--primary\">C</p>\n",
       " <p class=\"f5 color-fg-muted mb-0 mt-1\">\n",
       "           C is a general purpose programming language that first appeared in 1972.\n",
       "         </p>\n",
       " </a>,\n",
       " <a class=\"no-underline flex-1 d-flex flex-column\" href=\"/topics/chrome\">\n",
       " <p class=\"f3 lh-condensed mb-0 mt-1 Link--primary\">Chrome</p>\n",
       " <p class=\"f5 color-fg-muted mb-0 mt-1\">\n",
       "           Chrome is a web browser from the tech company Google.\n",
       "         </p>\n",
       " </a>,\n",
       " <a class=\"no-underline flex-1 d-flex flex-column\" href=\"/topics/chrome-extension\">\n",
       " <p class=\"f3 lh-condensed mb-0 mt-1 Link--primary\">Chrome extension</p>\n",
       " <p class=\"f5 color-fg-muted mb-0 mt-1\">\n",
       "           Chrome extensions enable users to customize the Chrome browsing experience.\n",
       "         </p>\n",
       " </a>,\n",
       " <a class=\"no-underline flex-1 d-flex flex-column\" href=\"/topics/cli\">\n",
       " <p class=\"f3 lh-condensed mb-0 mt-1 Link--primary\">Command line interface</p>\n",
       " <p class=\"f5 color-fg-muted mb-0 mt-1\">\n",
       "           A CLI, or command-line interface, is a console that helps users issue commands to a program.\n",
       "         </p>\n",
       " </a>,\n",
       " <a class=\"no-underline flex-1 d-flex flex-column\" href=\"/topics/clojure\">\n",
       " <p class=\"f3 lh-condensed mb-0 mt-1 Link--primary\">Clojure</p>\n",
       " <p class=\"f5 color-fg-muted mb-0 mt-1\">\n",
       "           Clojure is a dynamic, general-purpose programming language.\n",
       "         </p>\n",
       " </a>,\n",
       " <a class=\"no-underline flex-1 d-flex flex-column\" href=\"/topics/code-quality\">\n",
       " <p class=\"f3 lh-condensed mb-0 mt-1 Link--primary\">Code quality</p>\n",
       " <p class=\"f5 color-fg-muted mb-0 mt-1\">\n",
       "           Automate your code review with style, quality, security, and test‑coverage checks when you need them.\n",
       "         </p>\n",
       " </a>,\n",
       " <a class=\"no-underline flex-1 d-flex flex-column\" href=\"/topics/code-review\">\n",
       " <p class=\"f3 lh-condensed mb-0 mt-1 Link--primary\">Code review</p>\n",
       " <p class=\"f5 color-fg-muted mb-0 mt-1\">\n",
       "           Ensure your code meets quality standards and ship with confidence.\n",
       "         </p>\n",
       " </a>,\n",
       " <a class=\"no-underline flex-1 d-flex flex-column\" href=\"/topics/compiler\">\n",
       " <p class=\"f3 lh-condensed mb-0 mt-1 Link--primary\">Compiler</p>\n",
       " <p class=\"f5 color-fg-muted mb-0 mt-1\">\n",
       "           Compilers are software that translate higher-level programming languages to lower-level languages (e.g. machine code).\n",
       "         </p>\n",
       " </a>,\n",
       " <a class=\"no-underline flex-1 d-flex flex-column\" href=\"/topics/continuous-integration\">\n",
       " <p class=\"f3 lh-condensed mb-0 mt-1 Link--primary\">Continuous integration</p>\n",
       " <p class=\"f5 color-fg-muted mb-0 mt-1\">\n",
       "           Automatically build and test your code as you push it upstream, preventing bugs from being deployed to production.\n",
       "         </p>\n",
       " </a>,\n",
       " <a class=\"no-underline flex-1 d-flex flex-column\" href=\"/topics/covid-19\">\n",
       " <p class=\"f3 lh-condensed mb-0 mt-1 Link--primary\">COVID-19</p>\n",
       " <p class=\"f5 color-fg-muted mb-0 mt-1\">\n",
       "           The coronavirus disease 2019 (COVID-19) is an infectious disease caused by SARS-CoV-2.\n",
       "         </p>\n",
       " </a>,\n",
       " <a class=\"no-underline flex-1 d-flex flex-column\" href=\"/topics/cpp\">\n",
       " <p class=\"f3 lh-condensed mb-0 mt-1 Link--primary\">C++</p>\n",
       " <p class=\"f5 color-fg-muted mb-0 mt-1\">\n",
       "           C++ is a general purpose and object-oriented programming language.\n",
       "         </p>\n",
       " </a>]"
      ]
     },
     "execution_count": 87,
     "metadata": {},
     "output_type": "execute_result"
    }
   ],
   "source": [
    "topic_link_a_tags"
   ]
  },
  {
   "cell_type": "code",
   "execution_count": 88,
   "id": "5fa98504",
   "metadata": {},
   "outputs": [
    {
     "data": {
      "text/plain": [
       "'/topics/3d'"
      ]
     },
     "execution_count": 88,
     "metadata": {},
     "output_type": "execute_result"
    }
   ],
   "source": [
    "topic_link_a_tags[0]['href']"
   ]
  },
  {
   "cell_type": "code",
   "execution_count": 89,
   "id": "a9bdf44b",
   "metadata": {},
   "outputs": [],
   "source": [
    "topic0_url = \"https://github.com\"+topic_link_a_tags[0]['href']"
   ]
  },
  {
   "cell_type": "code",
   "execution_count": 90,
   "id": "058b0644",
   "metadata": {},
   "outputs": [
    {
     "data": {
      "text/plain": [
       "'https://github.com/topics/3d'"
      ]
     },
     "execution_count": 90,
     "metadata": {},
     "output_type": "execute_result"
    }
   ],
   "source": [
    "topic0_url"
   ]
  },
  {
   "cell_type": "code",
   "execution_count": null,
   "id": "6fb30c1a",
   "metadata": {},
   "outputs": [],
   "source": [
    "topic_title_p_tags[0].text"
   ]
  },
  {
   "cell_type": "code",
   "execution_count": 96,
   "id": "f975a276",
   "metadata": {},
   "outputs": [
    {
     "name": "stdout",
     "output_type": "stream",
     "text": [
      "['3D', 'Ajax', 'Algorithm', 'Amp', 'Android', 'Angular', 'Ansible', 'API', 'Arduino', 'ASP.NET', 'Atom', 'Awesome Lists', 'Amazon Web Services', 'Azure', 'Babel', 'Bash', 'Bitcoin', 'Bootstrap', 'Bot', 'C', 'Chrome', 'Chrome extension', 'Command line interface', 'Clojure', 'Code quality', 'Code review', 'Compiler', 'Continuous integration', 'COVID-19', 'C++']\n"
     ]
    }
   ],
   "source": [
    "topic_titles = []\n",
    "\n",
    "for tag in topic_title_p_tags:\n",
    "    topic_titles.append(tag.text)\n",
    "\n",
    "print(topic_titles)"
   ]
  },
  {
   "cell_type": "code",
   "execution_count": 99,
   "id": "a2e8858f",
   "metadata": {},
   "outputs": [
    {
     "name": "stdout",
     "output_type": "stream",
     "text": [
      "['3D modeling is the process of virtually developing the surface and structure of a 3D object.', 'Ajax is a technique for creating interactive web applications.', 'Algorithms are self-contained sequences that carry out a variety of tasks.', 'Amp is a non-blocking concurrency library for PHP.', 'Android is an operating system built by Google designed for mobile devices.']\n"
     ]
    }
   ],
   "source": [
    "topic_des = []\n",
    "\n",
    "for tag in topic_des_p_tags:\n",
    "    topic_des.append(tag.text.strip())\n",
    "    \n",
    "print(topic_des[:5])"
   ]
  },
  {
   "cell_type": "code",
   "execution_count": 105,
   "id": "0e616811",
   "metadata": {},
   "outputs": [
    {
     "name": "stdout",
     "output_type": "stream",
     "text": [
      "['https://github.com/topics/3d', 'https://github.com/topics/ajax', 'https://github.com/topics/algorithm', 'https://github.com/topics/amphp', 'https://github.com/topics/android']\n"
     ]
    }
   ],
   "source": [
    "topic_urls =[]\n",
    "base_url = \"https://github.com\"\n",
    "for tag in topic_link_a_tags:\n",
    "    topic_urls.append(base_url+tag['href'])\n",
    "    \n",
    "print(topic_urls[:5])"
   ]
  },
  {
   "cell_type": "code",
   "execution_count": 106,
   "id": "193ff68b",
   "metadata": {},
   "outputs": [],
   "source": [
    "!pip install pandas --quiet"
   ]
  },
  {
   "cell_type": "code",
   "execution_count": 107,
   "id": "f758a969",
   "metadata": {},
   "outputs": [],
   "source": [
    "import pandas as pd"
   ]
  },
  {
   "cell_type": "code",
   "execution_count": 111,
   "id": "ab94bfc4",
   "metadata": {},
   "outputs": [],
   "source": [
    "dict = {\n",
    "    'title':topic_titles,\n",
    "    'description':topic_des,\n",
    "    'url': topic_urls\n",
    "}\n",
    "topics_df = pd.DataFrame(dict)"
   ]
  },
  {
   "cell_type": "code",
   "execution_count": 112,
   "id": "e1450291",
   "metadata": {},
   "outputs": [
    {
     "data": {
      "text/html": [
       "<div>\n",
       "<style scoped>\n",
       "    .dataframe tbody tr th:only-of-type {\n",
       "        vertical-align: middle;\n",
       "    }\n",
       "\n",
       "    .dataframe tbody tr th {\n",
       "        vertical-align: top;\n",
       "    }\n",
       "\n",
       "    .dataframe thead th {\n",
       "        text-align: right;\n",
       "    }\n",
       "</style>\n",
       "<table border=\"1\" class=\"dataframe\">\n",
       "  <thead>\n",
       "    <tr style=\"text-align: right;\">\n",
       "      <th></th>\n",
       "      <th>title</th>\n",
       "      <th>description</th>\n",
       "      <th>url</th>\n",
       "    </tr>\n",
       "  </thead>\n",
       "  <tbody>\n",
       "    <tr>\n",
       "      <th>0</th>\n",
       "      <td>3D</td>\n",
       "      <td>3D modeling is the process of virtually develo...</td>\n",
       "      <td>https://github.com/topics/3d</td>\n",
       "    </tr>\n",
       "    <tr>\n",
       "      <th>1</th>\n",
       "      <td>Ajax</td>\n",
       "      <td>Ajax is a technique for creating interactive w...</td>\n",
       "      <td>https://github.com/topics/ajax</td>\n",
       "    </tr>\n",
       "    <tr>\n",
       "      <th>2</th>\n",
       "      <td>Algorithm</td>\n",
       "      <td>Algorithms are self-contained sequences that c...</td>\n",
       "      <td>https://github.com/topics/algorithm</td>\n",
       "    </tr>\n",
       "    <tr>\n",
       "      <th>3</th>\n",
       "      <td>Amp</td>\n",
       "      <td>Amp is a non-blocking concurrency library for ...</td>\n",
       "      <td>https://github.com/topics/amphp</td>\n",
       "    </tr>\n",
       "    <tr>\n",
       "      <th>4</th>\n",
       "      <td>Android</td>\n",
       "      <td>Android is an operating system built by Google...</td>\n",
       "      <td>https://github.com/topics/android</td>\n",
       "    </tr>\n",
       "    <tr>\n",
       "      <th>5</th>\n",
       "      <td>Angular</td>\n",
       "      <td>Angular is an open source web application plat...</td>\n",
       "      <td>https://github.com/topics/angular</td>\n",
       "    </tr>\n",
       "    <tr>\n",
       "      <th>6</th>\n",
       "      <td>Ansible</td>\n",
       "      <td>Ansible is a simple and powerful automation en...</td>\n",
       "      <td>https://github.com/topics/ansible</td>\n",
       "    </tr>\n",
       "    <tr>\n",
       "      <th>7</th>\n",
       "      <td>API</td>\n",
       "      <td>An API (Application Programming Interface) is ...</td>\n",
       "      <td>https://github.com/topics/api</td>\n",
       "    </tr>\n",
       "    <tr>\n",
       "      <th>8</th>\n",
       "      <td>Arduino</td>\n",
       "      <td>Arduino is an open source hardware and softwar...</td>\n",
       "      <td>https://github.com/topics/arduino</td>\n",
       "    </tr>\n",
       "    <tr>\n",
       "      <th>9</th>\n",
       "      <td>ASP.NET</td>\n",
       "      <td>ASP.NET is a web framework for building modern...</td>\n",
       "      <td>https://github.com/topics/aspnet</td>\n",
       "    </tr>\n",
       "    <tr>\n",
       "      <th>10</th>\n",
       "      <td>Atom</td>\n",
       "      <td>Atom is a open source text editor built with w...</td>\n",
       "      <td>https://github.com/topics/atom</td>\n",
       "    </tr>\n",
       "    <tr>\n",
       "      <th>11</th>\n",
       "      <td>Awesome Lists</td>\n",
       "      <td>An awesome list is a list of awesome things cu...</td>\n",
       "      <td>https://github.com/topics/awesome</td>\n",
       "    </tr>\n",
       "    <tr>\n",
       "      <th>12</th>\n",
       "      <td>Amazon Web Services</td>\n",
       "      <td>Amazon Web Services provides on-demand cloud c...</td>\n",
       "      <td>https://github.com/topics/aws</td>\n",
       "    </tr>\n",
       "    <tr>\n",
       "      <th>13</th>\n",
       "      <td>Azure</td>\n",
       "      <td>Azure is a cloud computing service created by ...</td>\n",
       "      <td>https://github.com/topics/azure</td>\n",
       "    </tr>\n",
       "    <tr>\n",
       "      <th>14</th>\n",
       "      <td>Babel</td>\n",
       "      <td>Babel is a compiler for writing next generatio...</td>\n",
       "      <td>https://github.com/topics/babel</td>\n",
       "    </tr>\n",
       "    <tr>\n",
       "      <th>15</th>\n",
       "      <td>Bash</td>\n",
       "      <td>Bash is a shell and command language interpret...</td>\n",
       "      <td>https://github.com/topics/bash</td>\n",
       "    </tr>\n",
       "    <tr>\n",
       "      <th>16</th>\n",
       "      <td>Bitcoin</td>\n",
       "      <td>Bitcoin is a cryptocurrency developed by Satos...</td>\n",
       "      <td>https://github.com/topics/bitcoin</td>\n",
       "    </tr>\n",
       "    <tr>\n",
       "      <th>17</th>\n",
       "      <td>Bootstrap</td>\n",
       "      <td>Bootstrap is an HTML, CSS, and JavaScript fram...</td>\n",
       "      <td>https://github.com/topics/bootstrap</td>\n",
       "    </tr>\n",
       "    <tr>\n",
       "      <th>18</th>\n",
       "      <td>Bot</td>\n",
       "      <td>A bot is an application that runs automated ta...</td>\n",
       "      <td>https://github.com/topics/bot</td>\n",
       "    </tr>\n",
       "    <tr>\n",
       "      <th>19</th>\n",
       "      <td>C</td>\n",
       "      <td>C is a general purpose programming language th...</td>\n",
       "      <td>https://github.com/topics/c</td>\n",
       "    </tr>\n",
       "    <tr>\n",
       "      <th>20</th>\n",
       "      <td>Chrome</td>\n",
       "      <td>Chrome is a web browser from the tech company ...</td>\n",
       "      <td>https://github.com/topics/chrome</td>\n",
       "    </tr>\n",
       "    <tr>\n",
       "      <th>21</th>\n",
       "      <td>Chrome extension</td>\n",
       "      <td>Chrome extensions enable users to customize th...</td>\n",
       "      <td>https://github.com/topics/chrome-extension</td>\n",
       "    </tr>\n",
       "    <tr>\n",
       "      <th>22</th>\n",
       "      <td>Command line interface</td>\n",
       "      <td>A CLI, or command-line interface, is a console...</td>\n",
       "      <td>https://github.com/topics/cli</td>\n",
       "    </tr>\n",
       "    <tr>\n",
       "      <th>23</th>\n",
       "      <td>Clojure</td>\n",
       "      <td>Clojure is a dynamic, general-purpose programm...</td>\n",
       "      <td>https://github.com/topics/clojure</td>\n",
       "    </tr>\n",
       "    <tr>\n",
       "      <th>24</th>\n",
       "      <td>Code quality</td>\n",
       "      <td>Automate your code review with style, quality,...</td>\n",
       "      <td>https://github.com/topics/code-quality</td>\n",
       "    </tr>\n",
       "    <tr>\n",
       "      <th>25</th>\n",
       "      <td>Code review</td>\n",
       "      <td>Ensure your code meets quality standards and s...</td>\n",
       "      <td>https://github.com/topics/code-review</td>\n",
       "    </tr>\n",
       "    <tr>\n",
       "      <th>26</th>\n",
       "      <td>Compiler</td>\n",
       "      <td>Compilers are software that translate higher-l...</td>\n",
       "      <td>https://github.com/topics/compiler</td>\n",
       "    </tr>\n",
       "    <tr>\n",
       "      <th>27</th>\n",
       "      <td>Continuous integration</td>\n",
       "      <td>Automatically build and test your code as you ...</td>\n",
       "      <td>https://github.com/topics/continuous-integration</td>\n",
       "    </tr>\n",
       "    <tr>\n",
       "      <th>28</th>\n",
       "      <td>COVID-19</td>\n",
       "      <td>The coronavirus disease 2019 (COVID-19) is an ...</td>\n",
       "      <td>https://github.com/topics/covid-19</td>\n",
       "    </tr>\n",
       "    <tr>\n",
       "      <th>29</th>\n",
       "      <td>C++</td>\n",
       "      <td>C++ is a general purpose and object-oriented p...</td>\n",
       "      <td>https://github.com/topics/cpp</td>\n",
       "    </tr>\n",
       "  </tbody>\n",
       "</table>\n",
       "</div>"
      ],
      "text/plain": [
       "                     title                                        description  \\\n",
       "0                       3D  3D modeling is the process of virtually develo...   \n",
       "1                     Ajax  Ajax is a technique for creating interactive w...   \n",
       "2                Algorithm  Algorithms are self-contained sequences that c...   \n",
       "3                      Amp  Amp is a non-blocking concurrency library for ...   \n",
       "4                  Android  Android is an operating system built by Google...   \n",
       "5                  Angular  Angular is an open source web application plat...   \n",
       "6                  Ansible  Ansible is a simple and powerful automation en...   \n",
       "7                      API  An API (Application Programming Interface) is ...   \n",
       "8                  Arduino  Arduino is an open source hardware and softwar...   \n",
       "9                  ASP.NET  ASP.NET is a web framework for building modern...   \n",
       "10                    Atom  Atom is a open source text editor built with w...   \n",
       "11           Awesome Lists  An awesome list is a list of awesome things cu...   \n",
       "12     Amazon Web Services  Amazon Web Services provides on-demand cloud c...   \n",
       "13                   Azure  Azure is a cloud computing service created by ...   \n",
       "14                   Babel  Babel is a compiler for writing next generatio...   \n",
       "15                    Bash  Bash is a shell and command language interpret...   \n",
       "16                 Bitcoin  Bitcoin is a cryptocurrency developed by Satos...   \n",
       "17               Bootstrap  Bootstrap is an HTML, CSS, and JavaScript fram...   \n",
       "18                     Bot  A bot is an application that runs automated ta...   \n",
       "19                       C  C is a general purpose programming language th...   \n",
       "20                  Chrome  Chrome is a web browser from the tech company ...   \n",
       "21        Chrome extension  Chrome extensions enable users to customize th...   \n",
       "22  Command line interface  A CLI, or command-line interface, is a console...   \n",
       "23                 Clojure  Clojure is a dynamic, general-purpose programm...   \n",
       "24            Code quality  Automate your code review with style, quality,...   \n",
       "25             Code review  Ensure your code meets quality standards and s...   \n",
       "26                Compiler  Compilers are software that translate higher-l...   \n",
       "27  Continuous integration  Automatically build and test your code as you ...   \n",
       "28                COVID-19  The coronavirus disease 2019 (COVID-19) is an ...   \n",
       "29                     C++  C++ is a general purpose and object-oriented p...   \n",
       "\n",
       "                                                 url  \n",
       "0                       https://github.com/topics/3d  \n",
       "1                     https://github.com/topics/ajax  \n",
       "2                https://github.com/topics/algorithm  \n",
       "3                    https://github.com/topics/amphp  \n",
       "4                  https://github.com/topics/android  \n",
       "5                  https://github.com/topics/angular  \n",
       "6                  https://github.com/topics/ansible  \n",
       "7                      https://github.com/topics/api  \n",
       "8                  https://github.com/topics/arduino  \n",
       "9                   https://github.com/topics/aspnet  \n",
       "10                    https://github.com/topics/atom  \n",
       "11                 https://github.com/topics/awesome  \n",
       "12                     https://github.com/topics/aws  \n",
       "13                   https://github.com/topics/azure  \n",
       "14                   https://github.com/topics/babel  \n",
       "15                    https://github.com/topics/bash  \n",
       "16                 https://github.com/topics/bitcoin  \n",
       "17               https://github.com/topics/bootstrap  \n",
       "18                     https://github.com/topics/bot  \n",
       "19                       https://github.com/topics/c  \n",
       "20                  https://github.com/topics/chrome  \n",
       "21        https://github.com/topics/chrome-extension  \n",
       "22                     https://github.com/topics/cli  \n",
       "23                 https://github.com/topics/clojure  \n",
       "24            https://github.com/topics/code-quality  \n",
       "25             https://github.com/topics/code-review  \n",
       "26                https://github.com/topics/compiler  \n",
       "27  https://github.com/topics/continuous-integration  \n",
       "28                https://github.com/topics/covid-19  \n",
       "29                     https://github.com/topics/cpp  "
      ]
     },
     "execution_count": 112,
     "metadata": {},
     "output_type": "execute_result"
    }
   ],
   "source": [
    "topics_df"
   ]
  },
  {
   "cell_type": "markdown",
   "id": "107b65d4",
   "metadata": {},
   "source": [
    "# Create CSV files(s) with the extracted information"
   ]
  },
  {
   "cell_type": "code",
   "execution_count": 114,
   "id": "150740ae",
   "metadata": {},
   "outputs": [],
   "source": [
    "topics_df.to_csv('topics.csv',index=None)"
   ]
  },
  {
   "cell_type": "code",
   "execution_count": null,
   "id": "8f17fb3b",
   "metadata": {},
   "outputs": [],
   "source": []
  }
 ],
 "metadata": {
  "kernelspec": {
   "display_name": "Python 3 (ipykernel)",
   "language": "python",
   "name": "python3"
  },
  "language_info": {
   "codemirror_mode": {
    "name": "ipython",
    "version": 3
   },
   "file_extension": ".py",
   "mimetype": "text/x-python",
   "name": "python",
   "nbconvert_exporter": "python",
   "pygments_lexer": "ipython3",
   "version": "3.9.12"
  }
 },
 "nbformat": 4,
 "nbformat_minor": 5
}
